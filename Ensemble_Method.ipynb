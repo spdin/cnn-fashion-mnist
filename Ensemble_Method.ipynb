{
  "nbformat": 4,
  "nbformat_minor": 0,
  "metadata": {
    "colab": {
      "name": "Ensemble Method.ipynb",
      "version": "0.3.2",
      "provenance": [],
      "collapsed_sections": [],
      "toc_visible": true,
      "include_colab_link": true
    },
    "kernelspec": {
      "name": "python3",
      "display_name": "Python 3"
    },
    "accelerator": "GPU"
  },
  "cells": [
    {
      "cell_type": "markdown",
      "metadata": {
        "id": "view-in-github",
        "colab_type": "text"
      },
      "source": [
        "<a href=\"https://colab.research.google.com/github/spdin/cnn-fashion-mnist/blob/master/Ensemble_Method.ipynb\" target=\"_parent\"><img src=\"https://colab.research.google.com/assets/colab-badge.svg\" alt=\"Open In Colab\"/></a>"
      ]
    },
    {
      "cell_type": "code",
      "metadata": {
        "id": "Uwvk9QZHQZIP",
        "colab_type": "code",
        "outputId": "0214a7b9-8564-46ee-eefd-35eb8884f648",
        "colab": {
          "base_uri": "https://localhost:8080/",
          "height": 34
        }
      },
      "source": [
        "import os\n",
        "import torch\n",
        "import time\n",
        "import torch.nn as nn\n",
        "import torch.nn.functional as F\n",
        "import torchvision\n",
        "import torchvision.transforms as transforms\n",
        "import matplotlib.pyplot as plt\n",
        "import numpy as np\n",
        "import matplotlib.pyplot as plt\n",
        "\n",
        "from torch import optim\n",
        "from torch.autograd import Variable\n",
        "from torch.utils.data import DataLoader\n",
        "from torchvision.transforms import ToPILImage\n",
        "\n",
        "from torchvision import models\n",
        "\n",
        "%matplotlib inline\n",
        "\n",
        "show = ToPILImage()\n",
        "\n",
        "device = torch.device('cuda' if torch.cuda.is_available() else 'cpu')\n",
        "print(device)\n"
      ],
      "execution_count": 0,
      "outputs": [
        {
          "output_type": "stream",
          "text": [
            "cuda\n"
          ],
          "name": "stdout"
        }
      ]
    },
    {
      "cell_type": "code",
      "metadata": {
        "id": "ghsmGUf1RJQL",
        "colab_type": "code",
        "colab": {}
      },
      "source": [
        "batchSize = 32\n",
        "nworkers = 4\n",
        "#transforms.RandomRotation(10),\n",
        "##load data\n",
        "transform = transforms.Compose([transforms.Resize(96),\n",
        "                                transforms.RandomHorizontalFlip(),\n",
        "                                transforms.RandomRotation(10),\n",
        "                                transforms.Grayscale(3),\n",
        "                                transforms.ToTensor(),\n",
        "                                transforms.Normalize((0.5,0.5,0.5), (0.5,0.5,0.5))])\n",
        "\n",
        "transform_test = transforms.Compose([transforms.Resize(96),\n",
        "                                     transforms.Grayscale(3),\n",
        "                                     transforms.ToTensor(),\n",
        "                                     transforms.Normalize((0.5,0.5,0.5), (0.5,0.5,0.5))])\n",
        "#,transforms.Normalize((0.5,), (0.5,))\n",
        "\n",
        "trainset = torchvision.datasets.FashionMNIST(root='data', train=True, download=True, transform=transform)\n",
        "trainloader = torch.utils.data.DataLoader(trainset, batch_size=batchSize, shuffle=True, num_workers=nworkers)\n",
        "\n",
        "testset = torchvision.datasets.FashionMNIST(root='data', train=False, download=True, transform=transform_test)\n",
        "testloader = torch.utils.data.DataLoader(testset, batch_size=batchSize, shuffle=False, num_workers=nworkers)"
      ],
      "execution_count": 0,
      "outputs": []
    },
    {
      "cell_type": "code",
      "metadata": {
        "id": "BpYcy1RuiT13",
        "colab_type": "code",
        "outputId": "bde3d4b4-cbc4-4612-e8bf-3bbcbd2f382a",
        "colab": {
          "base_uri": "https://localhost:8080/",
          "height": 122
        }
      },
      "source": [
        "# Run this cell to mount your Google Drive.\n",
        "from google.colab import drive\n",
        "drive.mount('/content/drive')"
      ],
      "execution_count": 0,
      "outputs": [
        {
          "output_type": "stream",
          "text": [
            "Go to this URL in a browser: https://accounts.google.com/o/oauth2/auth?client_id=947318989803-6bn6qk8qdgf4n4g3pfee6491hc0brc4i.apps.googleusercontent.com&redirect_uri=urn%3Aietf%3Awg%3Aoauth%3A2.0%3Aoob&scope=email%20https%3A%2F%2Fwww.googleapis.com%2Fauth%2Fdocs.test%20https%3A%2F%2Fwww.googleapis.com%2Fauth%2Fdrive%20https%3A%2F%2Fwww.googleapis.com%2Fauth%2Fdrive.photos.readonly%20https%3A%2F%2Fwww.googleapis.com%2Fauth%2Fpeopleapi.readonly&response_type=code\n",
            "\n",
            "Enter your authorization code:\n",
            "··········\n",
            "Mounted at /content/drive\n"
          ],
          "name": "stdout"
        }
      ]
    },
    {
      "cell_type": "markdown",
      "metadata": {
        "id": "TwIvt32jw5dv",
        "colab_type": "text"
      },
      "source": [
        "## Best Ensemble\n",
        "\n",
        "DenseNet-121 & DenseNet-161\n",
        "\n",
        "model1 = DenseNet-121\n",
        "model2 = DenseNet-161\n",
        "\n",
        "w1= 0.64\n",
        "w2 = 0.36\n",
        "\n",
        "\n",
        "Model 1\n",
        "\n",
        "* Training\n",
        "  * train acc = 99.95%\n",
        "  * train loss = 0.002673\n",
        "\n",
        "* Testing\n",
        "  * test acc = 95.52%\n",
        "  * test loss = 0.2400\n",
        "\n",
        "Model 2\n",
        "\n",
        "* Training\n",
        "  * train acc = 99.97%\n",
        "  * train loss = 0.001452\n",
        "\n",
        "* Testing\n",
        "  * test acc = 95.42%\n",
        "  * test loss = 0.2684\n",
        "\n",
        "Ensemble\n",
        "* Training\n",
        "  * train acc = 99.99%\n",
        "  * train loss = 0.001097\n",
        "\n",
        "* Testing\n",
        "  * test acc = 96.03%\n",
        "  * test loss = 0.2217\n",
        "  \n",
        "\n",
        "Experiment\n",
        "\n",
        "```\n",
        "  0.58,0.42. 95.97\n",
        "  0.59,0.41. 95.99\n",
        "  0.60,0.40. 96.01\n",
        "  0.61,0.39. 96.02\n",
        "  0.62,0.38. 96.02\n",
        "  0.63,0.37. 96.02\n",
        "  0.64,0.36. 96.03\n",
        "  0.65,0.35. 96.02\n",
        "  0.66,0.34. 95.99\n",
        "```"
      ]
    },
    {
      "cell_type": "code",
      "metadata": {
        "id": "sP6CkAM7BOts",
        "colab_type": "code",
        "outputId": "8cfec2b9-01dc-4e29-ebfb-87516d40ff19",
        "colab": {
          "base_uri": "https://localhost:8080/",
          "height": 34
        }
      },
      "source": [
        "net1 = models.densenet121()\n",
        "net1.classifier = nn.Linear(net1.classifier.in_features, out_features=10, bias=True)\n",
        "net1 = net1.to(device)\n",
        "\n",
        "#PATH = './DenseNet/DenseNet_98.pth'\n",
        "PATH = '/content/drive/My Drive/colab_project/best_model/DenseNet_29.pth'\n",
        "\n",
        "checkpoint = torch.load(PATH)\n",
        "net1.load_state_dict(checkpoint['model_state_dict'])\n",
        "\n",
        "\n",
        "net2 = models.densenet161()\n",
        "net2.classifier = nn.Linear(net2.classifier.in_features, out_features=10, bias=True)\n",
        "net2 = net2.to(device)\n",
        "\n",
        "#PATH = './DenseNet/DenseNet_161_31.pth'\n",
        "PATH = '/content/drive/My Drive/colab_project/best_model/DenseNet_161_22.pth'\n",
        "\n",
        "checkpoint = torch.load(PATH)\n",
        "net2.load_state_dict(checkpoint['model_state_dict'])\n"
      ],
      "execution_count": 0,
      "outputs": [
        {
          "output_type": "execute_result",
          "data": {
            "text/plain": [
              "IncompatibleKeys(missing_keys=[], unexpected_keys=[])"
            ]
          },
          "metadata": {
            "tags": []
          },
          "execution_count": 13
        }
      ]
    },
    {
      "cell_type": "markdown",
      "metadata": {
        "id": "cIgWodyuBP5A",
        "colab_type": "text"
      },
      "source": [
        "## Load DenseNet"
      ]
    },
    {
      "cell_type": "code",
      "metadata": {
        "id": "t9w474QfQLPb",
        "colab_type": "code",
        "outputId": "77325c45-994b-4473-c805-dd1dae7608ac",
        "colab": {
          "base_uri": "https://localhost:8080/",
          "height": 34
        }
      },
      "source": [
        "net1 = models.densenet121()\n",
        "net1.classifier = nn.Linear(net1.classifier.in_features, out_features=10, bias=True)\n",
        "net1 = net1.to(device)\n",
        "\n",
        "#PATH = './DenseNet/DenseNet_98.pth'\n",
        "PATH = '/content/drive/My Drive/colab_project/best_model/DenseNet_29.pth'\n",
        "\n",
        "checkpoint = torch.load(PATH)\n",
        "net1.load_state_dict(checkpoint['model_state_dict'])"
      ],
      "execution_count": 0,
      "outputs": [
        {
          "output_type": "execute_result",
          "data": {
            "text/plain": [
              "IncompatibleKeys(missing_keys=[], unexpected_keys=[])"
            ]
          },
          "metadata": {
            "tags": []
          },
          "execution_count": 2
        }
      ]
    },
    {
      "cell_type": "code",
      "metadata": {
        "id": "_uHj9NV6V5HM",
        "colab_type": "code",
        "outputId": "e186bc64-5a63-4d7f-866d-a978d54216bc",
        "colab": {
          "base_uri": "https://localhost:8080/",
          "height": 34
        }
      },
      "source": [
        "net2 = models.densenet121()\n",
        "net2.classifier = nn.Linear(net2.classifier.in_features, out_features=10, bias=True)\n",
        "net2 = net2.to(device)\n",
        "\n",
        "PATH = './DenseNet/DenseNet_30.pth'\n",
        "#PATH = '/content/drive/My Drive/colab_project/best_model/DenseNet_29.pth'\n",
        "\n",
        "\n",
        "checkpoint = torch.load(PATH)\n",
        "net2.load_state_dict(checkpoint['model_state_dict'])"
      ],
      "execution_count": 0,
      "outputs": [
        {
          "output_type": "execute_result",
          "data": {
            "text/plain": [
              "IncompatibleKeys(missing_keys=[], unexpected_keys=[])"
            ]
          },
          "metadata": {
            "tags": []
          },
          "execution_count": 16
        }
      ]
    },
    {
      "cell_type": "code",
      "metadata": {
        "id": "As9lnng7MSCD",
        "colab_type": "code",
        "outputId": "b5ecacc5-e19f-4006-8748-16ff94dc5f12",
        "colab": {
          "base_uri": "https://localhost:8080/",
          "height": 34
        }
      },
      "source": [
        "net2 = models.densenet161()\n",
        "net2.classifier = nn.Linear(net2.classifier.in_features, out_features=10, bias=True)\n",
        "net2 = net2.to(device)\n",
        "\n",
        "#PATH = './DenseNet/DenseNet_161_31.pth'\n",
        "PATH = '/content/drive/My Drive/colab_project/best_model/DenseNet_161_22.pth'\n",
        "\n",
        "\n",
        "checkpoint = torch.load(PATH)\n",
        "net2.load_state_dict(checkpoint['model_state_dict'])"
      ],
      "execution_count": 0,
      "outputs": [
        {
          "output_type": "execute_result",
          "data": {
            "text/plain": [
              "IncompatibleKeys(missing_keys=[], unexpected_keys=[])"
            ]
          },
          "metadata": {
            "tags": []
          },
          "execution_count": 32
        }
      ]
    },
    {
      "cell_type": "markdown",
      "metadata": {
        "id": "0tiA95J_Aue_",
        "colab_type": "text"
      },
      "source": [
        "## Load ResNet"
      ]
    },
    {
      "cell_type": "code",
      "metadata": {
        "id": "nb4b7UdmAt0z",
        "colab_type": "code",
        "outputId": "4e8fb5b5-e3d5-4d18-b30c-425e0a7447d2",
        "colab": {
          "base_uri": "https://localhost:8080/",
          "height": 34
        }
      },
      "source": [
        "net3 = models.resnet152()\n",
        "net3.fc = nn.Linear(net3.fc.in_features, out_features=10, bias=True)\n",
        "net3 = net3.to(device)\n",
        "\n",
        "PATH = '/content/drive/My Drive/colab_project/best_model/ResNet_27.pth'\n",
        "\n",
        "checkpoint = torch.load(PATH)\n",
        "net3.load_state_dict(checkpoint['model_state_dict'])\n"
      ],
      "execution_count": 0,
      "outputs": [
        {
          "output_type": "execute_result",
          "data": {
            "text/plain": [
              "IncompatibleKeys(missing_keys=[], unexpected_keys=[])"
            ]
          },
          "metadata": {
            "tags": []
          },
          "execution_count": 3
        }
      ]
    },
    {
      "cell_type": "markdown",
      "metadata": {
        "id": "PCvgL6WeKOxA",
        "colab_type": "text"
      },
      "source": [
        "## Load GoogleNet"
      ]
    },
    {
      "cell_type": "code",
      "metadata": {
        "id": "M8vikSrLKNb2",
        "colab_type": "code",
        "colab": {}
      },
      "source": [
        "net2 = models.resnet152()\n",
        "net2.fc = nn.Linear(net2.fc.in_features, out_features=10, bias=True)\n",
        "net2 = net2.to(device)\n",
        "\n",
        "PATH = '/content/drive/My Drive/colab_project/best_model/ResNet_27.pth'\n",
        "\n",
        "checkpoint = torch.load(PATH)\n",
        "net2.load_state_dict(checkpoint['model_state_dict'])\n"
      ],
      "execution_count": 0,
      "outputs": []
    },
    {
      "cell_type": "markdown",
      "metadata": {
        "id": "kDN51XSLikLQ",
        "colab_type": "text"
      },
      "source": [
        "## Load ResNext"
      ]
    },
    {
      "cell_type": "code",
      "metadata": {
        "id": "1KwJp5RrxGbF",
        "colab_type": "code",
        "outputId": "2af5d6be-cbd7-4c5f-f8a4-1f0305981f1e",
        "colab": {
          "base_uri": "https://localhost:8080/",
          "height": 34
        }
      },
      "source": [
        "net1 = models.resnext50_32x4d()\n",
        "\n",
        "net1.fc = nn.Linear(net1.fc.in_features, out_features=10, bias=True)\n",
        "net1 = net2.to(device)\n",
        "\n",
        "#PATH = 'ResNet/ResNet_7.pth'\n",
        "PATH = '/content/drive/My Drive/colab_project/share/ResNet_92.pth'\n",
        "\n",
        "checkpoint = torch.load(PATH)\n",
        "net1.load_state_dict(checkpoint['model_state_dict'])"
      ],
      "execution_count": 0,
      "outputs": [
        {
          "output_type": "execute_result",
          "data": {
            "text/plain": [
              "IncompatibleKeys(missing_keys=[], unexpected_keys=[])"
            ]
          },
          "metadata": {
            "tags": []
          },
          "execution_count": 24
        }
      ]
    },
    {
      "cell_type": "code",
      "metadata": {
        "id": "1p5VCqJnijKn",
        "colab_type": "code",
        "outputId": "96fb79c9-eab9-4945-beea-fd1f5bea23af",
        "colab": {
          "base_uri": "https://localhost:8080/",
          "height": 34
        }
      },
      "source": [
        "net2 = models.resnext50_32x4d()\n",
        "\n",
        "net2.fc = nn.Linear(net2.fc.in_features, out_features=10, bias=True)\n",
        "net2 = net2.to(device)\n",
        "\n",
        "#PATH = 'ResNet/ResNet_7.pth'\n",
        "PATH = '/content/drive/My Drive/colab_project/share/ResNet_106.pth'\n",
        "\n",
        "checkpoint = torch.load(PATH)\n",
        "net2.load_state_dict(checkpoint['model_state_dict'])"
      ],
      "execution_count": 0,
      "outputs": [
        {
          "output_type": "execute_result",
          "data": {
            "text/plain": [
              "IncompatibleKeys(missing_keys=[], unexpected_keys=[])"
            ]
          },
          "metadata": {
            "tags": []
          },
          "execution_count": 34
        }
      ]
    },
    {
      "cell_type": "code",
      "metadata": {
        "id": "v8GMshbpQbku",
        "colab_type": "code",
        "outputId": "b5f5d17a-9d89-4bcf-cb47-af5900c359e2",
        "colab": {
          "base_uri": "https://localhost:8080/",
          "height": 51
        }
      },
      "source": [
        "batchSize = 32\n",
        "nworkers = 4\n",
        "\n",
        "transform_test = transforms.Compose([transforms.Resize(96),\n",
        "                                     transforms.Grayscale(3),\n",
        "                                     transforms.ToTensor(),\n",
        "                                     transforms.Normalize((0.5,0.5,0.5), (0.5,0.5,0.5))])\n",
        "\n",
        "testset = torchvision.datasets.FashionMNIST(root='data', train=False, download=True, transform=transform_test)\n",
        "testloader = torch.utils.data.DataLoader(testset, batch_size=batchSize, shuffle=False, num_workers=nworkers)\n",
        "\n",
        "criterion = nn.CrossEntropyLoss()\n",
        "\n",
        "def val_model(net, loader):\n",
        "    running_loss = 0\n",
        "    running_accuracy = 0\n",
        "\n",
        "    net.eval()\n",
        "  \n",
        "    j = 0\n",
        "    for i, (X, y) in enumerate(loader):\n",
        "        # Pass to gpu or cpu\n",
        "        X, y = X.to(device), y.to(device)\n",
        "        \n",
        "        output = net(X)\n",
        "          \n",
        "        _, pred = torch.max(output, 1)\n",
        "            \n",
        "        loss = criterion(output, y)\n",
        "\n",
        "        # Calculate stats\n",
        "        running_loss += loss.item()\n",
        "        running_accuracy += torch.sum(pred == y.detach())\n",
        "        \n",
        "        #correct = pred == y.detach()   \n",
        "        #print(pred)\n",
        "        #print(y.detach())\n",
        "          \n",
        "        #print()\n",
        "                           \n",
        "        #if pred != y.detach():\n",
        "        #  print(\"%d - %d\"%(j, i))\n",
        "        #  j += 1\n",
        "          \n",
        "        \n",
        "    return running_loss / len(loader), running_accuracy.double() / len(loader.dataset)\n",
        "\n",
        "\n",
        "val_loss, val_acc = val_model(net3, testloader)\n",
        "\n",
        "print(val_loss)\n",
        "print(val_acc)\n",
        " "
      ],
      "execution_count": 0,
      "outputs": [
        {
          "output_type": "stream",
          "text": [
            "0.308893249914669\n",
            "tensor(0.9539, device='cuda:0', dtype=torch.float64)\n"
          ],
          "name": "stdout"
        }
      ]
    },
    {
      "cell_type": "markdown",
      "metadata": {
        "id": "LAzozkvFnRCv",
        "colab_type": "text"
      },
      "source": [
        "## Ensemble 2 model"
      ]
    },
    {
      "cell_type": "code",
      "metadata": {
        "id": "tvC8IQjrnTQc",
        "colab_type": "code",
        "colab": {}
      },
      "source": [
        "batchSize = 64\n",
        "nworkers = 4\n",
        "\n",
        "transform_test = transforms.Compose([transforms.Resize(96),\n",
        "                                     transforms.Grayscale(3),\n",
        "                                     transforms.ToTensor(),\n",
        "                                     transforms.Normalize((0.5,0.5,0.5), (0.5,0.5,0.5))])\n",
        "\n",
        "testset = torchvision.datasets.FashionMNIST(root='data', train=False, download=True, transform=transform_test)\n",
        "testloader = torch.utils.data.DataLoader(testset, batch_size=batchSize, shuffle=False, num_workers=nworkers)\n",
        "\n",
        "criterion = nn.CrossEntropyLoss()\n",
        "\n",
        "def val_model_ensemble(net1, net2, ratio, loader):\n",
        "    running_loss = 0\n",
        "    running_accuracy = 0\n",
        "\n",
        "    net1.eval()\n",
        "    net2.eval()\n",
        "    \n",
        "    j = 0\n",
        "    for i, (X, y) in enumerate(loader):\n",
        "        # Pass to gpu or cpu\n",
        "        X, y = X.to(device), y.to(device)\n",
        "        \n",
        "        output1 = net1(X)\n",
        "        output2 = net2(X) \n",
        "        \n",
        "        # output1 = torch.exp(output1)\n",
        "        # output2 = torch.exp(output2)\n",
        "        #print(output.size())\n",
        "        \n",
        "        output = ratio*output1 + (1-ratio)*output2\n",
        "        \n",
        "        _, pred = torch.max(output, 1)\n",
        "            \n",
        "        loss = criterion(output, y)\n",
        "\n",
        "        # Calculate stats\n",
        "        running_loss += loss.item()\n",
        "        running_accuracy += torch.sum(pred == y.detach())\n",
        "                           \n",
        "        #if pred != y.detach():\n",
        "        #  print(\"%d - %d\"%(j, i))\n",
        "        #  j += 1\n",
        "          \n",
        "    return running_loss / len(loader), running_accuracy.double() / len(loader.dataset)\n"
      ],
      "execution_count": 0,
      "outputs": []
    },
    {
      "cell_type": "code",
      "metadata": {
        "id": "M9BF47DezcMU",
        "colab_type": "code",
        "outputId": "f0f1aae3-fd10-4208-847f-daccb019ae72",
        "colab": {
          "base_uri": "https://localhost:8080/",
          "height": 129
        }
      },
      "source": [
        "net2 = net3\n",
        "val_loss, val_acc = val_model_ensemble(net1, net2, 0.3, testloader)\n",
        "print(val_loss)\n",
        "print(val_acc.item())\n",
        "print('---')\n",
        "\n",
        "val_loss, val_acc = val_model_ensemble(net1, net2, 0.4, testloader)\n",
        "print(val_loss)\n",
        "print(val_acc.item())\n",
        "print('---')\n",
        "\n",
        "val_loss, val_acc = val_model_ensemble(net1, net2, 0.5, testloader)\n",
        "print(val_loss)\n",
        "print(val_acc.item())\n",
        "print('---')\n",
        "\n",
        "val_loss, val_acc = val_model_ensemble(net1, net2, 0.6 testloader)\n",
        "print(val_loss)\n",
        "print(val_acc.item())\n",
        "print('---')\n",
        "\n",
        "val_loss, val_acc = val_model_ensemble(net1, net2, 0.7, testloader)\n",
        "print(val_loss)\n",
        "print(val_acc.item())\n",
        "print('---')"
      ],
      "execution_count": 0,
      "outputs": [
        {
          "output_type": "error",
          "ename": "SyntaxError",
          "evalue": "ignored",
          "traceback": [
            "\u001b[0;36m  File \u001b[0;32m\"<ipython-input-5-f4b1f3f0a3cf>\"\u001b[0;36m, line \u001b[0;32m17\u001b[0m\n\u001b[0;31m    val_loss, val_acc = val_model_ensemble(net1, net2, 0.6 testloader)\u001b[0m\n\u001b[0m                                                                    ^\u001b[0m\n\u001b[0;31mSyntaxError\u001b[0m\u001b[0;31m:\u001b[0m invalid syntax\n"
          ]
        }
      ]
    },
    {
      "cell_type": "markdown",
      "metadata": {
        "id": "dURS7D7ZnOCW",
        "colab_type": "text"
      },
      "source": [
        "## Ensemble 3 model"
      ]
    },
    {
      "cell_type": "code",
      "metadata": {
        "id": "rsfzG0YTDB8h",
        "colab_type": "code",
        "outputId": "928f6d3f-c48d-44ff-882d-8ed46840347f",
        "colab": {
          "base_uri": "https://localhost:8080/",
          "height": 51
        }
      },
      "source": [
        "batchSize = 8\n",
        "nworkers = 4\n",
        "\n",
        "transform_test = transforms.Compose([transforms.Resize(96),\n",
        "                                     transforms.Grayscale(3),\n",
        "                                     transforms.ToTensor(),\n",
        "                                     transforms.Normalize((0.5,0.5,0.5), (0.5,0.5,0.5))])\n",
        "\n",
        "testset = torchvision.datasets.FashionMNIST(root='data', train=False, download=True, transform=transform_test)\n",
        "testloader = torch.utils.data.DataLoader(testset, batch_size=batchSize, shuffle=False, num_workers=nworkers)\n",
        "\n",
        "criterion = nn.CrossEntropyLoss()\n",
        "\n",
        "def val_model_ensemble(net1, net2, net3, loader):\n",
        "    running_loss = 0\n",
        "    running_accuracy = 0\n",
        "\n",
        "    net1.eval()\n",
        "    net2.eval()\n",
        "    \n",
        "    j = 0\n",
        "    for i, (X, y) in enumerate(loader):\n",
        "        # Pass to gpu or cpu\n",
        "        X, y = X.to(device), y.to(device)\n",
        "        \n",
        "        output1 = net1(X)\n",
        "        \n",
        "        output2 = net2(X)\n",
        "        \n",
        "        output3 = net3(X)\n",
        "        \n",
        "        #output1 = torch.exp(output1)\n",
        "        #output2 = torch.exp(output2)\n",
        "        \n",
        "        output = (output1 + output2 + output3)/3\n",
        "        \n",
        "        _, pred = torch.max(output, 1)\n",
        "            \n",
        "        loss = criterion(output, y)\n",
        "\n",
        "        # Calculate stats\n",
        "        running_loss += loss.item()\n",
        "        running_accuracy += torch.sum(pred == y.detach())\n",
        "                           \n",
        "        #if pred != y.detach():\n",
        "        #  print(\"%d - %d\"%(j, i))\n",
        "        #  j += 1\n",
        "          \n",
        "    return running_loss / len(loader), running_accuracy.double() / len(loader.dataset)\n",
        "\n",
        "\n",
        "val_loss, val_acc = val_model_ensemble(net1, net2, net3, testloader)\n",
        "\n",
        "print(val_loss)\n",
        "print(val_acc)\n",
        " "
      ],
      "execution_count": 0,
      "outputs": [
        {
          "output_type": "stream",
          "text": [
            "0.23036147751808167\n",
            "tensor(0.9562, device='cuda:0', dtype=torch.float64)\n"
          ],
          "name": "stdout"
        }
      ]
    },
    {
      "cell_type": "code",
      "metadata": {
        "id": "ooL5UPKTz-eL",
        "colab_type": "code",
        "colab": {}
      },
      "source": [
        "!cp /content/DenseNet/DenseNet_31.pth '/content/drive/My Drive/colab_project/best_model'"
      ],
      "execution_count": 0,
      "outputs": []
    },
    {
      "cell_type": "code",
      "metadata": {
        "id": "YjSsn43F0CpI",
        "colab_type": "code",
        "colab": {}
      },
      "source": [
        ""
      ],
      "execution_count": 0,
      "outputs": []
    }
  ]
}